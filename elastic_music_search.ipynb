{
  "cells": [
    {
      "cell_type": "markdown",
      "metadata": {
        "id": "n6jBQq5ePGYS"
      },
      "source": [
        "# Humming search\n",
        "Code from blog [Searching by Music: Leveraging Vector Search for Music Information Retrieval](https://www.elastic.co/fr/blog/searching-by-music-leveraging-vector-search-audio-information-retrieval)\n",
        "\n",
        "**Author:** Alex Salgado\n",
        "\n",
        "**Modified by:** David Pilato\n",
        "\n",
        "[![Open In Colab](https://colab.research.google.com/assets/colab-badge.svg)](https://colab.research.google.com/github/dadoonet/music-search/blob/main/elastic_music_search.ipynb)"
      ]
    },
    {
      "cell_type": "markdown",
      "metadata": {
        "id": "BSb8cGgi2J9j"
      },
      "source": [
        "## Settings"
      ]
    },
    {
      "cell_type": "code",
      "execution_count": null,
      "metadata": {
        "id": "QM3bKaed2ROY"
      },
      "outputs": [],
      "source": [
        "import getpass\n",
        "\n",
        "github_url = \"https://github.com/dadoonet/music-search.git\"\n",
        "index_name = \"my-audio-index\"\n",
        "audio_path = \"/content/music-search/dataset\"\n",
        "\n",
        "es_cloud_id = getpass.getpass('Enter Elastic Cloud ID:  ')\n",
        "es_user = \"elastic\"\n",
        "# es_user = getpass.getpass('Enter cluster username:  ')\n",
        "es_pass = getpass.getpass('Enter cluster password:  ')"
      ]
    },
    {
      "cell_type": "markdown",
      "metadata": {
        "id": "Q5MlwPWc1hFm"
      },
      "source": [
        "## Setup"
      ]
    },
    {
      "cell_type": "markdown",
      "metadata": {
        "id": "R3Ot8BHR35Rk"
      },
      "source": [
        "### Install files and dependencies"
      ]
    },
    {
      "cell_type": "code",
      "execution_count": null,
      "metadata": {
        "colab": {
          "base_uri": "https://localhost:8080/"
        },
        "id": "pZwFi6xBcvUP",
        "outputId": "17be3be5-5d75-4f30-949f-e6d80074ebbe"
      },
      "outputs": [],
      "source": [
        "!rm -rf music-search/\n",
        "!git clone $github_url"
      ]
    },
    {
      "cell_type": "code",
      "execution_count": null,
      "metadata": {
        "colab": {
          "base_uri": "https://localhost:8080/"
        },
        "id": "_kHUvq5UBjsa",
        "outputId": "cb4e8cc8-4099-4510-c717-32c134b83009"
      },
      "outputs": [],
      "source": [
        "!pip install elasticsearch"
      ]
    },
    {
      "cell_type": "code",
      "execution_count": null,
      "metadata": {
        "id": "hiaeW7ph4Wkx"
      },
      "outputs": [],
      "source": [
        "!pip install -qU panns-inference librosa"
      ]
    },
    {
      "cell_type": "code",
      "execution_count": null,
      "metadata": {
        "id": "FCtGpz4V7ISy"
      },
      "outputs": [],
      "source": [
        "# Import necessary modules for audio display from IPython\n",
        "from IPython.display import Audio, display\n",
        "\n",
        "# Import necessary modules for Audio Tagging (ML)\n",
        "from panns_inference import AudioTagging\n",
        "\n",
        "# Import Elasticsearch client\n",
        "from elasticsearch import Elasticsearch"
      ]
    },
    {
      "cell_type": "markdown",
      "metadata": {
        "id": "DKdo24Ox45jl"
      },
      "source": [
        "### Load the ML model"
      ]
    },
    {
      "cell_type": "code",
      "execution_count": null,
      "metadata": {
        "colab": {
          "base_uri": "https://localhost:8080/"
        },
        "id": "sCI7uIqXCmsZ",
        "outputId": "f804e593-76fa-4c88-9bda-e12eb4ceb78e"
      },
      "outputs": [],
      "source": [
        "# load the default ML model into the gpu/cpu.\n",
        "model = AudioTagging(checkpoint_path=None, device='cuda') # change device to cpu if a gpu is not available"
      ]
    },
    {
      "cell_type": "markdown",
      "metadata": {
        "id": "fhlzjy6M5CiA"
      },
      "source": [
        "### Test connection with Elasticsearch"
      ]
    },
    {
      "cell_type": "code",
      "execution_count": null,
      "metadata": {
        "colab": {
          "base_uri": "https://localhost:8080/"
        },
        "id": "SBB742d6FbqL",
        "outputId": "121c8ca4-a582-478b-f93d-06449d734042"
      },
      "outputs": [],
      "source": [
        "# Connect to elasticsearch\n",
        "es = Elasticsearch(cloud_id=es_cloud_id,\n",
        "                   basic_auth=(es_user, es_pass)\n",
        "                   )\n",
        "es.info() # should return cluster info"
      ]
    },
    {
      "cell_type": "markdown",
      "metadata": {
        "id": "CpDhPsFsFhY4"
      },
      "source": [
        "### Create Elasticsearch index"
      ]
    },
    {
      "cell_type": "code",
      "execution_count": null,
      "metadata": {
        "colab": {
          "base_uri": "https://localhost:8080/"
        },
        "id": "inRCoHOMBe7r",
        "outputId": "5b6b7a9c-f400-4d71-d5d2-bf5784beea9b"
      },
      "outputs": [],
      "source": [
        "# Specify index configuration\n",
        "index_config = {\n",
        "  \"mappings\": {\n",
        "    \"_source\": {\n",
        "          \"excludes\": [\"audio-embedding\"]\n",
        "      },\n",
        "    \"properties\": {\n",
        "      \"audio-embedding\": {\n",
        "        \"type\": \"dense_vector\",\n",
        "        \"dims\": 2048,\n",
        "        \"index\": True,\n",
        "        \"similarity\": \"cosine\"\n",
        "      },\n",
        "      \"path\": {\n",
        "        \"type\": \"text\",\n",
        "        \"fields\": {\n",
        "          \"keyword\": {\n",
        "            \"type\": \"keyword\",\n",
        "            \"ignore_above\": 256\n",
        "          }\n",
        "        }\n",
        "      },\n",
        "      \"timestamp\": {\n",
        "        \"type\": \"date\"\n",
        "      },\n",
        "      \"title\": {\n",
        "        \"type\": \"text\"\n",
        "      },\n",
        "      \"genre\": {\n",
        "        \"type\": \"text\"\n",
        "      }\n",
        "    }\n",
        "  }\n",
        "}\n",
        "\n",
        "# Delete existing index\n",
        "if es.indices.exists(index=index_name):\n",
        "    index_deletion = es.indices.delete(index=index_name)\n",
        "    print(\"index deleted: \", index_deletion)\n",
        "\n",
        "# Create index\n",
        "index_creation = es.indices.create(index=index_name, body=index_config)\n",
        "print(\"index created: \", index_creation)"
      ]
    },
    {
      "cell_type": "markdown",
      "metadata": {
        "id": "AKIpQEyi56m5"
      },
      "source": [
        "## Code"
      ]
    },
    {
      "cell_type": "markdown",
      "metadata": {
        "id": "SGF_78iU6G2_"
      },
      "source": [
        "### List audio files from music dir"
      ]
    },
    {
      "cell_type": "code",
      "execution_count": null,
      "metadata": {
        "id": "26Z6YY8e5_Xz"
      },
      "outputs": [],
      "source": [
        "import os\n",
        "\n",
        "def list_audio_files(directory):\n",
        "    # The list to store the names of .wav files\n",
        "    audio_files = []\n",
        "\n",
        "    # Check if the path exists\n",
        "    if os.path.exists(directory):\n",
        "        # Walk the directory\n",
        "        for root, dirs, files in os.walk(directory):\n",
        "            for file in files:\n",
        "                # Check if the file is a .wav file\n",
        "                if file.endswith('.wav'):\n",
        "                    # Extract the filename from the path\n",
        "                    filename = os.path.splitext(file)[0]\n",
        "                    print(filename)\n",
        "\n",
        "                    # Add the file to the list\n",
        "                    audio_files.append(file)\n",
        "    else:\n",
        "        print(f\"The directory '{directory}' does not exist.\")\n",
        "\n",
        "    # Return the list of .wav files\n",
        "    return audio_files"
      ]
    },
    {
      "cell_type": "markdown",
      "metadata": {
        "id": "G0djyy1u6PTl"
      },
      "source": [
        "### Generate embeddings from a Wav file and normalize"
      ]
    },
    {
      "cell_type": "code",
      "execution_count": null,
      "metadata": {
        "id": "IiUwmLueCqIf"
      },
      "outputs": [],
      "source": [
        "import numpy as np\n",
        "import librosa\n",
        "\n",
        "# Function to normalize a vector. Normalizing a vector means adjusting the values measured in different scales to a common scale.\n",
        "def normalize(v):\n",
        "   # np.linalg.norm computes the vector's norm (magnitude). The norm is the total length of all vectors in a space.\n",
        "   norm = np.linalg.norm(v)\n",
        "   if norm == 0:\n",
        "        return v\n",
        "\n",
        "   # Return the normalized vector.\n",
        "   return v / norm\n",
        "\n",
        "# Function to get an embedding of an audio file. An embedding is a reduced-dimensionality representation of the file.\n",
        "def get_embedding (audio_file):\n",
        "\n",
        "  # Load the audio file using librosa's load function, which returns an audio time series and its corresponding sample rate.\n",
        "  a, _ = librosa.load(audio_file, sr=44100)\n",
        "\n",
        "  # Reshape the audio time series to have an extra dimension, which is required by the model's inference function.\n",
        "  query_audio = a[None, :]\n",
        "\n",
        "  # Perform inference on the reshaped audio using the model. This returns an embedding of the audio.\n",
        "  _, emb = model.inference(query_audio)\n",
        "\n",
        "  # Normalize the embedding. This scales the embedding to have a length (magnitude) of 1, while maintaining its direction.\n",
        "  normalized_v = normalize(emb[0])\n",
        "\n",
        "  # Return the normalized embedding required for dot_product elastic similarity dense vector\n",
        "  return normalized_v"
      ]
    },
    {
      "cell_type": "markdown",
      "metadata": {
        "id": "LmrgvuKD6XXb"
      },
      "source": [
        "### Index into Elasticsearch"
      ]
    },
    {
      "cell_type": "code",
      "execution_count": null,
      "metadata": {
        "id": "PvUiFaqIJPE2"
      },
      "outputs": [],
      "source": [
        "from datetime import datetime\n",
        "\n",
        "# Storing Songs in Elasticsearch with Vector Embeddings:\n",
        "def store_in_elasticsearch(song, embedding, path, index_name, genre, vec_field):\n",
        "  body = {\n",
        "      'audio-embedding' : embedding,\n",
        "      'title': song,\n",
        "      'timestamp': datetime.now(),\n",
        "      'path' : path,\n",
        "      'genre' : genre\n",
        "\n",
        "  }\n",
        "\n",
        "  es.index(index=index_name, document=body)\n",
        "  print (\"stored...\",song, embedding, path, genre, index_name)"
      ]
    },
    {
      "cell_type": "markdown",
      "metadata": {
        "id": "CWAkQ1E866V-"
      },
      "source": [
        "### Search for a similar song"
      ]
    },
    {
      "cell_type": "code",
      "execution_count": null,
      "metadata": {
        "id": "saGfzIfsDmEa"
      },
      "outputs": [],
      "source": [
        "# Define a function to query audio vector in Elasticsearch\n",
        "def query_audio_vector(es, emb, field_key, index_name):\n",
        "    # Initialize the query structure\n",
        "    # It's a bool filter query that checks if the field exists\n",
        "    query = {\n",
        "        \"bool\": {\n",
        "            \"filter\": [{\n",
        "                \"exists\": {\n",
        "                    \"field\": field_key\n",
        "                }\n",
        "            }]\n",
        "        }\n",
        "    }\n",
        "\n",
        "    # KNN search parameters\n",
        "    # field is the name of the field to perform the search on\n",
        "    # k is the number of nearest neighbors to find\n",
        "    # num_candidates is the number of candidates to consider (more means slower but potentially more accurate results)\n",
        "    # query_vector is the vector to find nearest neighbors for\n",
        "    # boost is the multiplier for scores (higher means this match is considered more important)\n",
        "    knn = {\n",
        "        \"field\": field_key,\n",
        "        \"k\": 5,\n",
        "        \"num_candidates\": 100,\n",
        "        \"query_vector\": emb,\n",
        "        \"boost\": 100\n",
        "    }\n",
        "\n",
        "    # The fields to retrieve from the matching documents\n",
        "    fields = [\"title\", \"path\", \"genre\", \"body_content\", \"url\"]\n",
        "\n",
        "    # The name of the index to search\n",
        "    index = index_name\n",
        "\n",
        "    # Perform the search\n",
        "    # index is the name of the index to search\n",
        "    # query is the query to use to find matching documents\n",
        "    # knn is the parameters for KNN search\n",
        "    # fields is the fields to retrieve from the matching documents\n",
        "    # size is the maximum number of matches to return\n",
        "    # source is whether to include the source document in the results\n",
        "    resp = es.search(index=index,\n",
        "                     query=query,\n",
        "                     knn=knn,\n",
        "                     fields=fields,\n",
        "                     size=5,\n",
        "                     source=False)\n",
        "\n",
        "    # Return the search results\n",
        "    return resp\n"
      ]
    },
    {
      "cell_type": "markdown",
      "metadata": {
        "id": "bxW3a_Z96sEY"
      },
      "source": [
        "## Run"
      ]
    },
    {
      "cell_type": "markdown",
      "metadata": {
        "id": "2dWHNhTS3kQd"
      },
      "source": [
        "### List audio files"
      ]
    },
    {
      "cell_type": "code",
      "execution_count": null,
      "metadata": {
        "colab": {
          "base_uri": "https://localhost:8080/"
        },
        "id": "oxJdxHLFF1QX",
        "outputId": "cdbeeb25-1d6d-40d6-c72e-4e419a81f260"
      },
      "outputs": [],
      "source": [
        "audio_files = list_audio_files(audio_path)"
      ]
    },
    {
      "cell_type": "markdown",
      "metadata": {
        "id": "eTfwL6fN6jmY"
      },
      "source": [
        "### Read each file and index it"
      ]
    },
    {
      "cell_type": "code",
      "execution_count": null,
      "metadata": {
        "colab": {
          "base_uri": "https://localhost:8080/"
        },
        "id": "N2m1ViF3Cw7t",
        "outputId": "0e58f529-e0c6-4893-f9b1-886f58ed4ba7"
      },
      "outputs": [],
      "source": [
        "\n",
        "# Initialize a list genre for test\n",
        "genre_lst = ['jazz', 'opera', 'piano','prompt', 'humming', 'string', 'capella', 'eletronic', 'guitar']\n",
        "\n",
        "for filename in audio_files:\n",
        "  audio_file = audio_path + \"/\" + filename\n",
        "\n",
        "  emb = get_embedding(audio_file)\n",
        "\n",
        "  song = filename.lower()\n",
        "\n",
        "  # Compare if genre list exists inside the song\n",
        "  genre = next((g for g in genre_lst if g in song), \"generic\")\n",
        "\n",
        "  store_in_elasticsearch(song, emb, audio_file, index_name, genre, 2 )\n"
      ]
    },
    {
      "cell_type": "markdown",
      "metadata": {
        "id": "9_ivLT7Y8-3G"
      },
      "source": [
        "### Find a similar song (Bella Ciao)"
      ]
    },
    {
      "cell_type": "code",
      "execution_count": null,
      "metadata": {
        "colab": {
          "base_uri": "https://localhost:8080/",
          "height": 75
        },
        "id": "MCNIaA3_EGIH",
        "outputId": "e428fc55-fbe7-4ce1-a4a5-62338207d63a"
      },
      "outputs": [],
      "source": [
        "# Provide the URL of the audio file\n",
        "audio_file = \"/content/music-search/dataset/bella_ciao_humming.wav\"\n",
        "\n",
        "# Display the audio file in the notebook\n",
        "Audio(audio_file)"
      ]
    },
    {
      "cell_type": "code",
      "execution_count": null,
      "metadata": {
        "id": "Vws3Aow4EV9W"
      },
      "outputs": [],
      "source": [
        "# Generate the embedding vector from the provided audio file\n",
        "# 'get_embedding' is a function that presumably converts the audio file into a numerical vector\n",
        "emb = get_embedding(audio_file)"
      ]
    },
    {
      "cell_type": "code",
      "execution_count": null,
      "metadata": {
        "id": "ed8CrbBi7nP6"
      },
      "outputs": [],
      "source": [
        "# Display the begining of the embeddings generated from the audio file\n",
        "emb.tolist()"
      ]
    },
    {
      "cell_type": "code",
      "execution_count": null,
      "metadata": {
        "id": "fZ7bDcA-xcwc"
      },
      "outputs": [],
      "source": [
        "# Query the Elasticsearch instance 'es' with the embedding vector 'emb', field key 'audio-embedding',\n",
        "# and index name 'my-audio-index'\n",
        "# 'query_audio_vector' is a function that performs a search in Elasticsearch using a vector embedding.\n",
        "# 'tolist()' method is used to convert numpy array to python list if 'emb' is a numpy array.\n",
        "resp = query_audio_vector (es, emb.tolist(), \"audio-embedding\", index_name)"
      ]
    },
    {
      "cell_type": "code",
      "execution_count": null,
      "metadata": {
        "id": "qz5bCtu2FlKx"
      },
      "outputs": [],
      "source": [
        "resp['hits']"
      ]
    },
    {
      "cell_type": "code",
      "execution_count": null,
      "metadata": {
        "colab": {
          "base_uri": "https://localhost:8080/"
        },
        "id": "uEgpWT60FpOx",
        "outputId": "8e89a8c5-c7b2-4347-ea50-baedfda87624"
      },
      "outputs": [],
      "source": [
        "NUM_MUSIC = 5  # example value\n",
        "\n",
        "for i in range(NUM_MUSIC):\n",
        "    path = resp['hits']['hits'][i]['fields']['path'][0]\n",
        "    genre = resp['hits']['hits'][i]['fields']['genre'][0]\n",
        "    score = resp['hits']['hits'][i]['_score']\n",
        "    score_padding = ('{: <10}'.format(score))\n",
        "    genre_padding = ('{: <10}'.format(genre))\n",
        "    print(f'{score_padding}', f'{genre_padding}', path)\n"
      ]
    },
    {
      "cell_type": "code",
      "execution_count": null,
      "metadata": {
        "colab": {
          "base_uri": "https://localhost:8080/",
          "height": 93
        },
        "id": "mBu7mqUZFtt_",
        "outputId": "dcdb39d2-c3a6-46ad-9dfc-3b4b3f8a4f1a"
      },
      "outputs": [],
      "source": [
        "# Listen to the 2nd one (ignore the first as it's the same song)\n",
        "print(resp['hits']['hits'][1]['fields']['path'][0])\n",
        "Audio(resp['hits']['hits'][1]['fields']['path'][0])"
      ]
    },
    {
      "cell_type": "code",
      "execution_count": null,
      "metadata": {
        "colab": {
          "base_uri": "https://localhost:8080/",
          "height": 93
        },
        "id": "-JafEIZD_AKf",
        "outputId": "00dd51cb-8d6b-4264-ea01-03fd04dd2fce"
      },
      "outputs": [],
      "source": [
        "print(resp['hits']['hits'][2]['fields']['path'][0])\n",
        "Audio(resp['hits']['hits'][2]['fields']['path'][0])"
      ]
    },
    {
      "cell_type": "code",
      "execution_count": null,
      "metadata": {
        "colab": {
          "base_uri": "https://localhost:8080/",
          "height": 93
        },
        "id": "p7XI-xse_bB1",
        "outputId": "f641531e-8da5-43b1-c38f-94ad8309cd1d"
      },
      "outputs": [],
      "source": [
        "print(resp['hits']['hits'][3]['fields']['path'][0])\n",
        "Audio(resp['hits']['hits'][3]['fields']['path'][0])"
      ]
    },
    {
      "cell_type": "code",
      "execution_count": null,
      "metadata": {
        "colab": {
          "base_uri": "https://localhost:8080/",
          "height": 93
        },
        "id": "CGeo1bi__dTX",
        "outputId": "e93ba4a1-7031-4302-bcb7-e7da14c2c4c3"
      },
      "outputs": [],
      "source": [
        "print(resp['hits']['hits'][4]['fields']['path'][0])\n",
        "Audio(resp['hits']['hits'][4]['fields']['path'][0])"
      ]
    },
    {
      "cell_type": "markdown",
      "metadata": {
        "id": "DSchfqFa9w3S"
      },
      "source": [
        "### Find a similar song (Mozart)"
      ]
    },
    {
      "cell_type": "code",
      "execution_count": null,
      "metadata": {
        "colab": {
          "base_uri": "https://localhost:8080/",
          "height": 75
        },
        "id": "B1WVWRqw9w3a",
        "outputId": "925a3094-c275-4ad7-8845-f7cd9fbddbeb"
      },
      "outputs": [],
      "source": [
        "# Provide the URL of the audio file\n",
        "audio_file = \"/content/music-search/dataset/mozart_symphony25_string-quartet.wav\"\n",
        "\n",
        "# Display the audio file in the notebook\n",
        "Audio(audio_file)"
      ]
    },
    {
      "cell_type": "code",
      "execution_count": null,
      "metadata": {
        "id": "tn4rg5tZ9w3a"
      },
      "outputs": [],
      "source": [
        "# Generate the embedding vector from the provided audio file\n",
        "# 'get_embedding' is a function that presumably converts the audio file into a numerical vector\n",
        "emb = get_embedding(audio_file)"
      ]
    },
    {
      "cell_type": "code",
      "execution_count": null,
      "metadata": {
        "id": "cwgKAEx_9w3a"
      },
      "outputs": [],
      "source": [
        "# Query the Elasticsearch instance 'es' with the embedding vector 'emb', field key 'audio-embedding',\n",
        "# and index name 'my-audio-index'\n",
        "# 'query_audio_vector' is a function that performs a search in Elasticsearch using a vector embedding.\n",
        "# 'tolist()' method is used to convert numpy array to python list if 'emb' is a numpy array.\n",
        "resp = query_audio_vector (es, emb.tolist(), \"audio-embedding\", index_name)"
      ]
    },
    {
      "cell_type": "code",
      "execution_count": null,
      "metadata": {
        "colab": {
          "base_uri": "https://localhost:8080/"
        },
        "id": "q3nuXKLS9w3b",
        "outputId": "ab52d381-b72c-475a-fd00-12f45f9545f3"
      },
      "outputs": [],
      "source": [
        "for i in range(NUM_MUSIC):\n",
        "    path = resp['hits']['hits'][i]['fields']['path'][0]\n",
        "    genre = resp['hits']['hits'][i]['fields']['genre'][0]\n",
        "    score = resp['hits']['hits'][i]['_score']\n",
        "    score_padding = ('{: <10}'.format(score))\n",
        "    genre_padding = ('{: <10}'.format(genre))\n",
        "    print(f'{score_padding}', f'{genre_padding}', path)\n"
      ]
    },
    {
      "cell_type": "code",
      "execution_count": null,
      "metadata": {
        "colab": {
          "base_uri": "https://localhost:8080/",
          "height": 93
        },
        "id": "wvxYxvd09w3b",
        "outputId": "81b15c43-add7-4f41-fd85-b8badf9012a0"
      },
      "outputs": [],
      "source": [
        "# Listen to the 2nd one (ignore the first as it's the same song)\n",
        "print(resp['hits']['hits'][1]['fields']['path'][0])\n",
        "Audio(resp['hits']['hits'][1]['fields']['path'][0])"
      ]
    },
    {
      "cell_type": "code",
      "execution_count": null,
      "metadata": {
        "colab": {
          "base_uri": "https://localhost:8080/",
          "height": 93
        },
        "id": "Xv5zkvop_sok",
        "outputId": "136c9793-893f-45b4-b92a-0cd750212700"
      },
      "outputs": [],
      "source": [
        "print(resp['hits']['hits'][2]['fields']['path'][0])\n",
        "Audio(resp['hits']['hits'][2]['fields']['path'][0])"
      ]
    },
    {
      "cell_type": "code",
      "execution_count": null,
      "metadata": {
        "colab": {
          "base_uri": "https://localhost:8080/",
          "height": 93
        },
        "id": "86cCjLlk_tuN",
        "outputId": "ac59e763-6781-44f3-d87d-f1271c59a8a3"
      },
      "outputs": [],
      "source": [
        "print(resp['hits']['hits'][3]['fields']['path'][0])\n",
        "Audio(resp['hits']['hits'][3]['fields']['path'][0])"
      ]
    },
    {
      "cell_type": "code",
      "execution_count": null,
      "metadata": {
        "colab": {
          "base_uri": "https://localhost:8080/",
          "height": 93
        },
        "id": "QSTDvYXq_ug0",
        "outputId": "419901c8-5432-458f-fff4-a2c8c4b091d1"
      },
      "outputs": [],
      "source": [
        "print(resp['hits']['hits'][4]['fields']['path'][0])\n",
        "Audio(resp['hits']['hits'][4]['fields']['path'][0])"
      ]
    }
  ],
  "metadata": {
    "colab": {
      "include_colab_link": true,
      "provenance": [],
      "toc_visible": true
    },
    "kernelspec": {
      "display_name": "Python 3",
      "name": "python3"
    },
    "language_info": {
      "codemirror_mode": {
        "name": "ipython",
        "version": 3
      },
      "file_extension": ".py",
      "mimetype": "text/x-python",
      "name": "python",
      "nbconvert_exporter": "python",
      "pygments_lexer": "ipython3",
      "version": "3.8.16"
    }
  },
  "nbformat": 4,
  "nbformat_minor": 0
}
